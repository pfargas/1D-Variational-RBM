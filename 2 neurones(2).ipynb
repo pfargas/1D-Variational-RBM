{
 "cells": [
  {
   "cell_type": "markdown",
   "id": "b78e5ba3-0199-46a4-8eb7-d617adb5f0f9",
   "metadata": {},
   "source": [
    "# 2 hidden QHO\n",
    "\n",
    "## Variational Wavefunction"
   ]
  },
  {
   "cell_type": "code",
   "execution_count": null,
   "id": "8674aae1",
   "metadata": {
    "scrolled": true
   },
   "outputs": [],
   "source": [
    "# using PyPlot"
   ]
  },
  {
   "cell_type": "code",
   "execution_count": null,
   "id": "8ae933ec-c282-4a2d-962c-38d572b21916",
   "metadata": {},
   "outputs": [],
   "source": [
    "using Plots"
   ]
  },
  {
   "cell_type": "markdown",
   "id": "87689a89",
   "metadata": {},
   "source": [
    "## Function definitions"
   ]
  },
  {
   "cell_type": "code",
   "execution_count": null,
   "id": "77cda11c-6522-4066-a1d2-5fbaeb8f2501",
   "metadata": {},
   "outputs": [],
   "source": [
    "function Ψ(x,b,c1,c2,W1,W2)\n",
    "    return exp(x*b)*(1.0+exp(c1+x*W1))*(1.0+exp(c2+x*W2))\n",
    "end;"
   ]
  },
  {
   "cell_type": "markdown",
   "id": "65be979d-6421-46b1-8bcc-0fe4d9e34afe",
   "metadata": {},
   "source": [
    "<span style=\"color:RED\">WE DEFINE A \"STUPID\" WAVEFUNCTION HERE</span>\n",
    "\n",
    "$\\psi(x)=\\begin{cases}Ke^{bx}& x\\geq 0\\\\Ke^{-bx}& x\\leq 0\\end{cases}$\n",
    "\n",
    "With the restriction that $b<0$...\n"
   ]
  },
  {
   "cell_type": "code",
   "execution_count": null,
   "id": "abfe2c0d-9086-40ad-bff7-c876ec2feffb",
   "metadata": {},
   "outputs": [],
   "source": [
    "function Ψ(x,b,c1,c2,w1,w2)\n",
    "    # Piecewise symetric wf\n",
    "    K = (1.0+exp(c1))*(1.0+exp(c2))\n",
    "    if x<0.0\n",
    "        return K*exp(-b*x)\n",
    "    else\n",
    "        return K*exp(b*x)\n",
    "    end\n",
    "end;"
   ]
  },
  {
   "cell_type": "code",
   "execution_count": null,
   "id": "cd2e6eb5",
   "metadata": {},
   "outputs": [],
   "source": [
    "# Ψ(x,b,c1,c2,w1,w2) = exp(-0.5*x^2);"
   ]
  },
  {
   "cell_type": "markdown",
   "id": "434e0ffa-aaf7-4245-b967-92b22ddd89f8",
   "metadata": {},
   "source": [
    "Doing analytical calculations, one observes that $K$ is not contributing to the energy, so here $C1$ and $C2$ are not relevant."
   ]
  },
  {
   "cell_type": "code",
   "execution_count": null,
   "id": "03628043",
   "metadata": {},
   "outputs": [],
   "source": [
    "B  = -1.;\n",
    "C  = -5\n",
    "C1 = C;\n",
    "C2 = C;\n",
    "W1 =  0.0;\n",
    "W2 =  0.0;"
   ]
  },
  {
   "cell_type": "code",
   "execution_count": null,
   "id": "ea283b05-9d79-4d40-9489-0b510d30e745",
   "metadata": {},
   "outputs": [],
   "source": [
    "Ψ(0,B,C1,C2,W1,W2)"
   ]
  },
  {
   "cell_type": "markdown",
   "id": "d90baebc-f670-40c6-aac2-8bd6785f58b8",
   "metadata": {},
   "source": [
    "## Definition of the wavefunction\n",
    "\n",
    "If we take an **even** number of gridpoints, the function at $x=0$ is not defined, meaning we won't have problems with the discontinuity of the derivative."
   ]
  },
  {
   "cell_type": "code",
   "execution_count": null,
   "id": "423a4b1a-5ca3-4f0c-a35a-8bcf2cd07c12",
   "metadata": {},
   "outputs": [],
   "source": [
    "x = range(-20, 20, length=10000)\n",
    "h = sum(x[2:end].-x[1:end-1])/(length(x)-1)\n",
    "\n",
    "ψ = Ψ.(x,B,C1,C2,W1,W2)\n",
    "plot(x,ψ)\n",
    "# NO EM FUNCIONA EL PYPLOT AIXI QUE HE TRET TOTES LES LABELS I TAL PER A QUE NO EM DONI ERRORS. SORRY :(\n",
    "#xlabel(\"x\");\n",
    "#ylabel(\"ψ(x)\");"
   ]
  },
  {
   "cell_type": "markdown",
   "id": "0130d181-5ad6-4506-bbde-d22eb496c85e",
   "metadata": {},
   "source": [
    "### Computation of the local energy"
   ]
  },
  {
   "cell_type": "code",
   "execution_count": null,
   "id": "a53a4d15",
   "metadata": {},
   "outputs": [],
   "source": [
    "d2ψ  =  (ψ[3:end] .- 2.0*ψ[2:end-1] .+ ψ[1:end-2]) ./ h^2\n",
    "Tloc = -0.5*d2ψ ./ ψ[2:end-1]\n",
    "Vloc =  0.5*x[2:end-1].^2\n",
    "Eloc =  Tloc .+ Vloc;\n",
    "\n",
    "#plot(1:length(Tloc),Tloc,label=\"Tloc(x)\")\n",
    "#lot(1:length(Vloc),Vloc,label=\"Tloc(x)\");\n",
    "#lot(1:length(Eloc),Eloc,label=\"Eloc(x)\");\n",
    "#lot(1:length(Eloc),ψ[2:end-1].^2,label=\"ψ²(x)\")\n",
    "#plot(1:length(Eloc),ψ[2:end-1].^2 .* Eloc,label=\"ψ²·Eloc\")\n",
    "#location = \"best\"\n",
    "#legend_fontsize = 10\n",
    "#legend(fontsize=14,handletextpad=0.4,loc=location,frameon=false);"
   ]
  },
  {
   "cell_type": "code",
   "execution_count": null,
   "id": "43b5d532",
   "metadata": {},
   "outputs": [],
   "source": [
    "function Simpson(f,h)\n",
    "    Nf = length(f)\n",
    "    s  = 2.0*ones(Nf)\n",
    "    s[2:2:end-1] .*= 2.0\n",
    "    s[1] = s[end]  = 1.0\n",
    "    sum(s.*f)*h/3.0\n",
    "end;"
   ]
  },
  {
   "cell_type": "markdown",
   "id": "b387ead8-bbee-4c39-b310-9315bab7630f",
   "metadata": {},
   "source": [
    "### Energy"
   ]
  },
  {
   "cell_type": "code",
   "execution_count": null,
   "id": "bfb63d26",
   "metadata": {},
   "outputs": [],
   "source": [
    "Simpson(ψ[2:end-1].^2 .* Eloc,h) / Simpson(ψ[2:end-1].^2,h)"
   ]
  },
  {
   "cell_type": "code",
   "execution_count": null,
   "id": "3d076e6a-d487-4144-8e8b-5a3197948fac",
   "metadata": {},
   "outputs": [],
   "source": [
    "B_range  = range(-5, 0.0001, length=1000);\n",
    "x = range(-20, 20, length=10000)\n",
    "h = sum(x[2:end].-x[1:end-1])/(length(x)-1)\n",
    "energies = ones(1000)\n",
    "for i in range(1,length(B_range))\n",
    "    B=B_range[i]\n",
    "    ψ = Ψ.(x,B,C1,C2,W1,W2)\n",
    "    d2ψ  =  (ψ[3:end] .- 2.0*ψ[2:end-1] .+ ψ[1:end-2]) ./ h^2\n",
    "    Tloc = -0.5*d2ψ ./ ψ[2:end-1]\n",
    "    Vloc =  0.5*x[2:end-1].^2\n",
    "    Eloc =  Tloc .+ Vloc;\n",
    "    energies[i]=Simpson(ψ[2:end-1].^2 .* Eloc,h) / Simpson(ψ[2:end-1].^2,h)\n",
    "end\n",
    "plot(B_range,energies)\n",
    "xlabel!(\"b\")\n",
    "ylabel!(\"E[b]\")"
   ]
  },
  {
   "cell_type": "code",
   "execution_count": null,
   "id": "f3d8f6a8-35d4-4ad5-8abf-650142ac5a5f",
   "metadata": {},
   "outputs": [],
   "source": [
    "minimum(energies)"
   ]
  },
  {
   "cell_type": "code",
   "execution_count": null,
   "id": "74a0edaf-eacd-4e46-937b-25f3bd6d7fd3",
   "metadata": {},
   "outputs": [],
   "source": [
    "function Ψ(x,b,c1,c2,w1,w2)\n",
    "    if x<0\n",
    "        return exp(-x*b)*(1.0+exp(c1-x*W1))*(1.0+exp(c2-x*W2))\n",
    "    end\n",
    "    return exp(x*b)*(1.0+exp(c1+x*W1))*(1.0+exp(c2+x*W2))\n",
    "end;"
   ]
  },
  {
   "cell_type": "code",
   "execution_count": null,
   "id": "c92bd04e-946b-45d7-94be-e1af78c233e9",
   "metadata": {},
   "outputs": [],
   "source": [
    "B  = -1.0\n",
    "C1 = 0\n",
    "C2 = 0\n",
    "W = -0.3\n",
    "W1 = W\n",
    "W2 = W\n",
    "\n",
    "x = range(-20, 0, length=10000)\n",
    "h = sum(x[2:end].-x[1:end-1])/(length(x)-1)\n",
    "\n",
    "ψ = Ψ.(x,B,C1,C2,W1,W2)\n",
    "plot(x,ψ)\n",
    "B  = -1.0\n",
    "C1 = 0\n",
    "C2 = 0\n",
    "W = -0.3\n",
    "W1 = W\n",
    "W2 = W\n",
    "x = range(0, 20, length=10000)\n",
    "h = sum(x[2:end].-x[1:end-1])/(length(x)-1)\n",
    "\n",
    "ψ = Ψ.(x,B,C1,C2,W1,W2)\n",
    "plot!(x,ψ)"
   ]
  },
  {
   "cell_type": "code",
   "execution_count": null,
   "id": "1eb81dc7-2cfe-4f05-b2e3-a910589cb362",
   "metadata": {},
   "outputs": [],
   "source": [
    "function Ψ(x,b,c,w)\n",
    "    M = length(c)\n",
    "    M == length(w)\n",
    "    prod = 1\n",
    "    if x<0\n",
    "        for i in 1:M\n",
    "            prod *= 1+exp(c[i]-x*w[i])\n",
    "        end\n",
    "        return exp(-x*b)*prod\n",
    "    end\n",
    "    for i in 1:M\n",
    "        prod *= 1+exp(c[i]+x*w[i])\n",
    "    end\n",
    "    return exp(x*b)*prod\n",
    "end;"
   ]
  },
  {
   "cell_type": "code",
   "execution_count": null,
   "id": "fc9536d7-1c84-4b09-a2e9-54f9a1775d24",
   "metadata": {},
   "outputs": [],
   "source": [
    "w = [-1.,-1.]\n",
    "c = [1.,1.]\n",
    "b= -1.\n",
    "x = range(-20, 20, length=10000)\n",
    "x_vec = Array(x)\n",
    "h = sum(x[2:end].-x[1:end-1])/(length(x)-1)\n",
    "\n",
    "ψ = ones(length(x_vec))\n",
    "for i in 1:length(x_vec)\n",
    "    ψ[i] = Ψ(x_vec[i],b,c,w)\n",
    "end\n",
    "plot(x,ψ)"
   ]
  },
  {
   "cell_type": "markdown",
   "id": "3c969654",
   "metadata": {},
   "source": [
    "# Gaussian Ansatz"
   ]
  },
  {
   "cell_type": "code",
   "execution_count": null,
   "id": "5d51ceda-3e7c-47ec-b92e-48c9f93dc9e2",
   "metadata": {},
   "outputs": [],
   "source": [
    "function ψG(x::Float32,λ::ComplexF64,b::ComplexF64,c::Array{ComplexF64,1},w::Array{ComplexF64,1})\n",
    "    M = length(c) # number of hidden units\n",
    "    prod = 1\n",
    "    for i in 1:M\n",
    "        prod *= 1+exp(c[i]+x*w[i])\n",
    "    end\n",
    "    return exp(-λ*x^2+x*b)*prod\n",
    "end;"
   ]
  },
  {
   "cell_type": "code",
   "execution_count": null,
   "id": "4de9cd9e-bda9-4d44-b9e9-8f97809e5cfa",
   "metadata": {},
   "outputs": [],
   "source": [
    "ψG(0,1. -5im,1. - 5im,1. +2im,1.)"
   ]
  },
  {
   "cell_type": "code",
   "execution_count": null,
   "id": "f8c48265-eb4d-4b81-ab93-6fab09497817",
   "metadata": {},
   "outputs": [],
   "source": [
    "λ = 0.5 - 1im\n",
    "b = 0.\n",
    "c = [0.,0.]\n",
    "w = [0., 0.]\n",
    "\n",
    "x = range(-10, 10, length=100000)\n",
    "x_vec = Array(x)\n",
    "h = sum(x[2:end].-x[1:end-1])/(length(x)-1)\n",
    "\n",
    "y = ones(length(x_vec))\n",
    "for i in 1:length(x_vec)\n",
    "    y[i] = ψG(x_vec[i],λ,b,c,w) # why not working? :(\n",
    "end\n",
    "plot(x,y.^2/sum(y.^2))"
   ]
  },
  {
   "cell_type": "code",
   "execution_count": null,
   "id": "b4c6b37a-9352-4733-985b-274568e001b6",
   "metadata": {},
   "outputs": [],
   "source": [
    "d2ψ  =  (y[3:end] .- 2.0*y[2:end-1] .+ y[1:end-2]) ./ h^2\n",
    "Tloc = -0.5*d2ψ ./ y[2:end-1]\n",
    "Vloc =  0.5*x[2:end-1].^2\n",
    "Eloc =  Tloc .+ Vloc;"
   ]
  },
  {
   "cell_type": "code",
   "execution_count": null,
   "id": "ea220d93-6206-4d44-9c3b-b848c9dae283",
   "metadata": {},
   "outputs": [],
   "source": [
    "print(Simpson(y[2:end-1].^2 .* Eloc,h))"
   ]
  },
  {
   "cell_type": "code",
   "execution_count": null,
   "id": "1cc55e51-bede-4250-bdd4-aaddc544cbbc",
   "metadata": {},
   "outputs": [],
   "source": [
    "print(Simpson(y[2:end-1].^2,h))"
   ]
  },
  {
   "cell_type": "code",
   "execution_count": null,
   "id": "8ff5f7de-62af-4903-8e79-ef1f15fe90a8",
   "metadata": {},
   "outputs": [],
   "source": [
    "Simpson(y[2:end-1].^2 .* Eloc,h) / Simpson(y[2:end-1].^2,h)"
   ]
  },
  {
   "cell_type": "code",
   "execution_count": null,
   "id": "75edb28c-378d-42ae-a122-b453a6cd11d3",
   "metadata": {},
   "outputs": [],
   "source": [
    "function energy(λ, b, c, w, xmin=-10, xmax=10, n=100000)\n",
    "    x = range(xmin, xmax, length=n)\n",
    "    x_vec = Array(x)\n",
    "    h = sum(x[2:end].-x[1:end-1])/(length(x)-1)\n",
    "    \n",
    "    y = ones(length(x_vec))\n",
    "    for i in 1:length(x_vec)\n",
    "        y[i] = ψG(x_vec[i],λ,b,c,w)\n",
    "    end\n",
    "    d2ψ  =  (y[3:end] .- 2.0*y[2:end-1] .+ y[1:end-2]) ./ h^2\n",
    "    Tloc = -0.5*d2ψ ./ y[2:end-1]\n",
    "    Vloc =  0.5*x[2:end-1].^2\n",
    "    Eloc =  Tloc .+ Vloc\n",
    "    return Simpson(y[2:end-1].^2 .* Eloc,h) / Simpson(y[2:end-1].^2,h)\n",
    "end;"
   ]
  },
  {
   "cell_type": "code",
   "execution_count": null,
   "id": "8219e458-a08e-4398-903f-5d98d3a2ae44",
   "metadata": {},
   "outputs": [],
   "source": [
    "range_λ = Array(range(0.4,1,length=50))\n",
    "array_energy=ones(length(range_λ))\n",
    "for (i, λ) in enumerate(range_λ)\n",
    "    array_energy[i]=energy(λ, b, c, w)\n",
    "end\n",
    "plot(range_λ,array_energy)"
   ]
  },
  {
   "cell_type": "code",
   "execution_count": null,
   "id": "5ae014dd-bbd6-40f2-b5b6-44a6bb943fdc",
   "metadata": {},
   "outputs": [],
   "source": [
    "print(energy(0.5, b, c, w))"
   ]
  },
  {
   "cell_type": "markdown",
   "id": "6a521811-c34b-41e4-a7ed-48f66cba27c8",
   "metadata": {},
   "source": [
    "----------------------\n",
    "# ACABA AQUÍ"
   ]
  },
  {
   "cell_type": "code",
   "execution_count": null,
   "id": "12dcf990",
   "metadata": {},
   "outputs": [],
   "source": [
    "gaussian2d(x,y,A,x0,y0,σx=1.0,σy=1.0) = A*exp(-((x-x0)^2/(2*σx^2)+(y-y0)^2/(2*σy^2)))\n",
    "\n",
    "x = range(-10, 10; length=101)\n",
    "y = range(-10, 10; length=101)\n",
    "f1 = -gaussian2d.(x', t,1.,0.5,-0.7)\n",
    "f2 = -gaussian2d.(x', t,0.4,-7,3)\n",
    "\n",
    "landscape = f1.+f2\n",
    "\n",
    "function landscape(\n",
    "surface(x, y, landscape; colorbar=false,\n",
    "    xlabel=\"t\", ylabel=\"x\", zlabel=\"T\",\n",
    "    camera=(30, 20), color=reverse(cgrad(:RdYlBu_11)))\n"
   ]
  },
  {
   "cell_type": "code",
   "execution_count": null,
   "id": "b6da64ae-454d-43ba-b38d-8e13a3fefcfa",
   "metadata": {},
   "outputs": [],
   "source": [
    "function metropolis(landscape, x0, y0, steps, T, A1, A2, c1, c2, σ1x, σ1y, σ2x, σ2y, x_min, x_max, y_min, y_max)"
   ]
  },
  {
   "cell_type": "code",
   "execution_count": null,
   "id": "0eeb95dd",
   "metadata": {},
   "outputs": [],
   "source": [
    "Ψ(100.0,B,C1,C2,W1,W2)"
   ]
  },
  {
   "cell_type": "markdown",
   "id": "2b064c53-9c12-48e9-a7ed-2786859ba5a3",
   "metadata": {},
   "source": [
    "We want that $\\Psi\\to 0$ as $x\\to \\pm \\infty$. In this case, it is not the behaviour. Because the wavefuntion is not 0 anywhere, the excited states are not gonna be reproduced, so it should converge to the ground state. If the first condition is not satisfied..."
   ]
  },
  {
   "cell_type": "markdown",
   "id": "b0fef39a-bd56-466f-887c-952b65c3b528",
   "metadata": {},
   "source": [
    "Useful function"
   ]
  },
  {
   "cell_type": "code",
   "execution_count": null,
   "id": "52289043-74c7-424f-9808-2e114e3c6d4d",
   "metadata": {},
   "outputs": [],
   "source": [
    "function σ(x)\n",
    "    return 1/(1+ℯ^(-x))\n",
    "end"
   ]
  },
  {
   "cell_type": "code",
   "execution_count": null,
   "id": "c15dee9d-15fd-4bc3-a8a2-a7a2cc5ace2a",
   "metadata": {},
   "outputs": [],
   "source": [
    "x = range(-20, 20, length=100)\n",
    "y = σ.(x)\n",
    "plot(x,y)"
   ]
  },
  {
   "cell_type": "markdown",
   "id": "c91df84e-2781-426f-888f-449dcc834de0",
   "metadata": {},
   "source": [
    "## Variational Energy\n",
    "\n",
    "Definition of the variational energy"
   ]
  },
  {
   "cell_type": "code",
   "execution_count": null,
   "id": "38291244-4a37-4940-a58d-1458ed66640b",
   "metadata": {},
   "outputs": [],
   "source": [
    "using QuadGK\n",
    "\n",
    "function numerator(x,b,c1,c2,W1,W2)\n",
    "    σ1=σ(c1+x*W1)\n",
    "    σ2=σ(c2+x*W2)\n",
    "    ξ=b^2 + 2*b*(W1*σ1 + W2*σ2)+(W1^2)*σ1+(W2^2)*σ2+2*W1*W2*σ1*σ2\n",
    "    return (Ψ(x,b,c1,c2,W1,W2))^2*(x^2-ξ)\n",
    "end\n",
    "\n",
    "\n",
    "\n",
    "function energy(b,c1,c2,W1,W2,inf=-20,sup=20)\n",
    "    integral_num, err    = quadgk(x->numerator(x,b,c1,c2,W1,W2), inf,sup)\n",
    "    integral_denom, err2 = quadgk(x->((Ψ(x,b,c1,c2,W1,W2))^2), inf,sup)\n",
    "    return 0.5*integral_num/integral_denom\n",
    "end"
   ]
  },
  {
   "cell_type": "code",
   "execution_count": null,
   "id": "5f204a0d-49a9-4c5f-90d3-bdf1ecd6a713",
   "metadata": {},
   "outputs": [],
   "source": [
    "energy(-1,0,0,-1,-1,0,40)"
   ]
  },
  {
   "cell_type": "code",
   "execution_count": null,
   "id": "f84ee769-fa5b-4bfc-aa92-ff387c6379ee",
   "metadata": {},
   "outputs": [],
   "source": [
    "x = range(0, 1, length=100)\n",
    "y = energy.(-1,0,0,-x,-x,0,20)\n",
    "plot(x,y)\n",
    "title!(\"Wnweg\")\n",
    "xlabel!(\"W\")\n",
    "ylabel!(\"Energy\")"
   ]
  },
  {
   "cell_type": "markdown",
   "id": "e2786143-bd88-4c83-b650-40347b652c0c",
   "metadata": {},
   "source": [
    "## Gradient of the Variational Energy with respect to the RBM parameters\n",
    "\n",
    "Definition of the gradient of some parts of the full grad"
   ]
  },
  {
   "cell_type": "code",
   "execution_count": null,
   "id": "55a1a8f1-6aea-4cf6-b7a4-6fe5110c7488",
   "metadata": {},
   "outputs": [],
   "source": [
    "function ∇ξ(x,b,c1,c2,W1,W2)\n",
    "    σ1  = σ(c1+x*W1)\n",
    "    σ2  = σ(c2+x*W2)\n",
    "\n",
    "    ∂b  = 2(b+σ1*W1+σ2*W2)\n",
    "    ∂c1 = 2*b*W1*σ1*(1-σ1) + W1^2*σ1*(1-σ1) + 2*W1*W2*σ1*(1-σ1)*σ2\n",
    "    ∂c2 = 2*b*W2*σ2*(1-σ2) + W2^2*σ2*(1-σ2) + 2*W1*W2*σ2*(1-σ2)*σ1\n",
    "    ∂W1 = 2*b*(σ1+W1*σ1*(1-σ1)*x) + 2*W1*σ1 + W1^2*σ1*(1-σ1)*x + 2*σ2*W2*(σ1+W1*σ1*(1-σ1)*x)\n",
    "    ∂W2 = 2*b*(σ2+W2*σ2*(1-σ2)*x) + 2*W2*σ2 + W2^2*σ2*(1-σ2)*x + 2*σ1*W1*(σ2+W2*σ2*(1-σ2)*x)\n",
    "    return ∂b+∂c1+∂c2+∂W1+∂W2\n",
    "end\n",
    "\n",
    "function ∇Ψ(x,b,c1,c2,W1,W2)\n",
    "    σ1  = σ(c1+x*W1)\n",
    "    σ2  = σ(c2+x*W2)\n",
    "    return Ψ(x,b,c1,c2,W1,W2) * (σ1+σ2+x*(1+σ1+σ2))\n",
    "\n"
   ]
  }
 ],
 "metadata": {
  "kernelspec": {
   "display_name": "Julia 1.11.3",
   "language": "julia",
   "name": "julia-1.11"
  },
  "language_info": {
   "file_extension": ".jl",
   "mimetype": "application/julia",
   "name": "julia",
   "version": "1.11.3"
  }
 },
 "nbformat": 4,
 "nbformat_minor": 5
}
