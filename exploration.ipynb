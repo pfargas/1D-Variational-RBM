{
 "cells": [
  {
   "cell_type": "code",
   "execution_count": 2,
   "metadata": {},
   "outputs": [],
   "source": [
    "using ProgressMeter\n",
    "using Random\n",
    "using PyPlot\n",
    "using Base.Threads\n",
    "\n",
    "include(\"utils.jl\");\n"
   ]
  },
  {
   "cell_type": "code",
   "execution_count": 3,
   "metadata": {},
   "outputs": [
    {
     "name": "stdout",
     "output_type": "stream",
     "text": [
      "size w(20,)\n",
      "size c(20,)\n",
      "size b()\n",
      "energy32.44535931565889\n"
     ]
    }
   ],
   "source": [
    "Nh = 20\n",
    "initial_guess = randn(2*Nh+1)\n",
    "NTemps           = 100\n",
    "Nexchanges       = 100\n",
    "TMax             = 10\n",
    "λ                = 0.92\n",
    "NSteps           = 10\n",
    "StepSize         = 0.1\n",
    "D                = size(initial_guess, 1)\n",
    "\n",
    "temperatures     = zeros(NTemps)\n",
    "temperatures[1]  = TMax\n",
    "[temperatures[i] = temperatures[i-1]*λ for i in 2:NTemps]\n",
    "\n",
    "θo = repeat(initial_guess, 1,NTemps)\n",
    "\n",
    "θo = θo .+ StepSize*randn(D, NTemps)\n",
    "\n",
    "function compute_energy(θ)\n",
    "    params = θ\n",
    "    b = params[end]\n",
    "    c = params[1:Nh]\n",
    "    w = params[Nh+1:end-1]\n",
    "    return energy(0.5f0, b, c, w)\n",
    "end\n",
    "\n",
    "params = θo[:,1]\n",
    "b = params[end]\n",
    "c = params[1:Nh]\n",
    "w = params[Nh+1:end-1]\n",
    "println(\"size w\", size(w))\n",
    "println(\"size c\", size(c))\n",
    "println(\"size b\", size(b))\n",
    "println(\"energy\", compute_energy(params))"
   ]
  },
  {
   "cell_type": "code",
   "execution_count": 33,
   "metadata": {},
   "outputs": [
    {
     "data": {
      "text/plain": [
       "parallel_tempering (generic function with 1 method)"
      ]
     },
     "execution_count": 33,
     "metadata": {},
     "output_type": "execute_result"
    }
   ],
   "source": [
    "function parallel_tempering(initial_guess, Nh)\n",
    "    NTemps           = 10\n",
    "    Nexchanges       = 10\n",
    "    TMax             = 10\n",
    "    λ                = 0.92\n",
    "    NSteps           = 10\n",
    "    StepSize         = 0.1\n",
    "    D                = size(initial_guess, 1)\n",
    "\n",
    "    if D != 2*Nh+1 # for each hidden, there is 1 weight and 1 bias, plus the visible bias\n",
    "        println(\"Nh = \", Nh)\n",
    "        println(\"D = \", D)\n",
    "        println(\"2*Nh+1 = \", 2*Nh+1)\n",
    "        println(\"initial_guess = \", initial_guess)\n",
    "        println(\"initial_guess size = \", size(initial_guess))\n",
    "        error(\"D must be equal to 2*Nh+1\")\n",
    "    end\n",
    "\n",
    "    temperatures     = zeros(NTemps)\n",
    "    temperatures[1]  = TMax\n",
    "    [temperatures[i] = temperatures[i-1]*λ for i in 2:NTemps]\n",
    "\n",
    "    θo = repeat(initial_guess, 1,NTemps)\n",
    "\n",
    "    θo = θo .+ StepSize*randn(D, NTemps)\n",
    "    \n",
    "    eo = zeros(NTemps)\n",
    "    en = zeros(NTemps)\n",
    "\n",
    "    for i in 1:NTemps\n",
    "        eo[i] = compute_energy(θo[:,i])\n",
    "    end\n",
    "    \n",
    "    EMIN = minimum(eo)\n",
    "    EMINidx = findmin(eo)\n",
    "    EMINidx = EMINidx[2]\n",
    "    θn = zeros(size(θo))\n",
    "\n",
    "    @showprogress for exch_step in 1:Nexchanges+1\n",
    "        for step in 1:NSteps\n",
    "            # Sampling step\n",
    "            θn = θo .+ StepSize*randn(D, NTemps)\n",
    "            Threads.@threads for i in 1:NTemps\n",
    "                en[i] = compute_energy(θn[:,i])\n",
    "            end\n",
    "\n",
    "            # accept-reject\n",
    "            Threads.@threads for i in 1:NTemps\n",
    "                if en[i] < eo[i]\n",
    "                    θo[:,i] = θn[:,i]\n",
    "                    eo[i] = en[i]\n",
    "                elseif rand() < exp((eo[i]-en[i])/temperatures[i])\n",
    "                    θo[:,i] = θn[:,i]\n",
    "                    eo[i] = en[i]\n",
    "                end\n",
    "            end\n",
    "\n",
    "            # find Best\n",
    "            EMIN = minimum(eo)\n",
    "            EMINidx = findmin(eo)\n",
    "            EMINidx = EMINidx[2]\n",
    "        end\n",
    "\n",
    "        \n",
    "        # Exchange step\n",
    "        for i in 1:NTemps-1 \n",
    "            # exchange for temperature i and i-1\n",
    "            ΔE_exchange = (eo[i] - eo[i+1]) * (1/temperatures[i] - 1/temperatures[i+1])\n",
    "            if ΔE_exchange < 0\n",
    "                θo[i], θo[i+1] = θo[i+1], θo[i]\n",
    "                eo[i], eo[i+1] = eo[i+1], eo[i]\n",
    "            elseif rand() < exp(-ΔE_exchange)\n",
    "                θo[i], θo[i+1] = θo[i+1], θo[i]\n",
    "                eo[i], eo[i+1] = eo[i+1], eo[i]\n",
    "            end\n",
    "        end\n",
    "    end\n",
    "\n",
    "    return θn, eo, en\n",
    "end"
   ]
  },
  {
   "cell_type": "code",
   "execution_count": 34,
   "metadata": {},
   "outputs": [
    {
     "name": "stderr",
     "output_type": "stream",
     "text": [
      "\u001b[32mProgress: 100%|█████████████████████████████████████████| Time: 0:00:16\u001b[39m\n"
     ]
    },
    {
     "data": {
      "text/plain": [
       "([-0.5105623583473824 -0.6449481687500453 … 0.34185283413298007 -0.09080670433451181; 2.724139898315955 0.5928634632500733 … -1.8309938775722534 0.059252898861878206; … ; 1.9560544745403552 1.8410276667478855 … 0.8715473714508725 1.1694456893663054; 2.094056415713504 1.5581002814217482 … 0.6651945694761399 0.4542526527692042], [-17.82720923819844, 42.404877999703444, 33.248077655008956, 32.1003460583891, 40.69700035137006, 28.448159726097245, 24.46622409422132, -1.4265194754143575, 17.958611292068436, 40.16656184526454], [43.095048224123495, -17.82720923819844, 42.404877999703444, 33.248077655008956, 32.1003460583891, 40.69700035137006, 28.448159726097245, 24.46622409422132, 37.52696871973337, 40.16656184526454])"
      ]
     },
     "execution_count": 34,
     "metadata": {},
     "output_type": "execute_result"
    }
   ],
   "source": [
    "a,b,c = parallel_tempering(initial_guess, Nh)"
   ]
  },
  {
   "cell_type": "code",
   "execution_count": null,
   "metadata": {},
   "outputs": [],
   "source": []
  }
 ],
 "metadata": {
  "kernelspec": {
   "display_name": "Julia 4 Threads 1.11.3",
   "language": "julia",
   "name": "julia-4-threads-1.11"
  },
  "language_info": {
   "file_extension": ".jl",
   "mimetype": "application/julia",
   "name": "julia",
   "version": "1.11.3"
  }
 },
 "nbformat": 4,
 "nbformat_minor": 2
}
