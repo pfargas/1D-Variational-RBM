{
 "cells": [
  {
   "cell_type": "code",
   "execution_count": null,
   "metadata": {},
   "outputs": [],
   "source": [
    "using PyPlot"
   ]
  },
  {
   "cell_type": "code",
   "execution_count": null,
   "metadata": {},
   "outputs": [],
   "source": [
    "#using Plots\n",
    "include(\"utils.jl\");"
   ]
  },
  {
   "cell_type": "markdown",
   "metadata": {},
   "source": [
    "$$\\Psi(x)=e^{-\\lambda x^2+bx}\\sum_{\\{h\\}}e^{(c+xW)h}=e^{-\\lambda x^2+bx}\\prod_{j}^{N_h}(1+e^{c_j+xW_j})$$"
   ]
  },
  {
   "cell_type": "code",
   "execution_count": null,
   "metadata": {},
   "outputs": [],
   "source": [
    "\"\"\"Constants in the test\"\"\"\n",
    "\n",
    "λ = 0.5\n",
    "b = 0.\n",
    "N_h = 16\n",
    "c = -Complex.(zeros(N_h))\n",
    "# w = [(0. +1im),(0. +1im)]\n",
    ";"
   ]
  },
  {
   "cell_type": "code",
   "execution_count": null,
   "metadata": {},
   "outputs": [],
   "source": [
    "# generate symetric random w such that w_j~N(0,1)\n",
    "\n",
    "half_w = Complex.(randn(Int32(N_h//2)), randn(Int32(N_h//2)))\n",
    "# a = 1.0\n",
    "# b = 1.0\n",
    "# c = -1.0\n",
    "# d = -1.0\n",
    "# # half_w = [(a +b*1im),(c + d*1im)]\n",
    "# half_w = [1.599 - 0.431im, 1.191 - 0.18im]\n",
    "#half_w = [-1.005, 1.045, 0.176, -0.329, 1.599, 0.02, -0.393, 1.393]\n",
    "\n",
    "w = Complex.(vcat(half_w, -half_w));\n",
    "\n",
    "# range of the domain\n",
    "xmin = -10\n",
    "xmax = 10\n",
    "n = 10000\n",
    "x = range(xmin, stop = xmax, length = n)\n",
    "dx = x[2]-x[1]\n",
    "\n",
    "# compute the trial wf\n",
    "y = Complex.(ones(n))\n",
    "for i = 1:n\n",
    "    y[i] = Ψ_G(x[i], λ, b, c, w)\n",
    "end\n",
    "\n",
    "# compute the trial wf energy\n",
    "E = round(energy(λ, b, c, w,xmin, xmax, n ), digits=3)\n",
    "\n",
    "\n",
    "# use the same methods to compute the exact ground state wf λ=0.5, b=0, c=0, w=0\n",
    "y_analytic = Complex.(ones(n))\n",
    "for i = 1:n\n",
    "    y_analytic[i] = Ψ_G(x[i], 0.5, 0., 0., 0.)\n",
    "end\n",
    "\n",
    "# compute the exact ground state wf energy\n",
    "E_a = round(energy(0.5, 0., 0., 0.), digits=3)\n",
    "\n",
    "# Calculate the probability of the trial wf and the exact wf\n",
    "prob = abs.(y).^2/(sum(abs.(y).^2)*dx)\n",
    "analytic_prob = abs.(y_analytic).^2/sum(abs.(y_analytic).^2)"
   ]
  },
  {
   "cell_type": "markdown",
   "metadata": {},
   "source": [
    "# <span style=\"color:red\">Codi Ferran</span>"
   ]
  },
  {
   "cell_type": "code",
   "execution_count": null,
   "metadata": {},
   "outputs": [],
   "source": [
    "xmin = -10\n",
    "xmax = 10\n",
    "n    = 10000\n",
    "x    = range(xmin, stop = xmax, length = n)\n",
    "dx   = x[2]-x[1]\n",
    "\n",
    "Ψ2   = Ψ_exact.(x,2)\n",
    "\n",
    "w_best      = zero(w)\n",
    "Niter       = 100\n",
    "half_Nh     = div(N_h,2)\n",
    "f(x)        = Ψ_G(x, λ, b, c, w)\n",
    "Err         = Inf\n",
    "for it in 1:Niter\n",
    "    half_w  = Complex.(randn(half_Nh), randn(half_Nh))\n",
    "    w       = vcat(half_w, -half_w)\n",
    "    y       = f.(x) / (sum(abs2.(y))*dx)\n",
    "    Err_n   = sum(abs2.(y.-Ψ2))\n",
    "    #print(Err_n,\" : \")\n",
    "    if  Err > Err_n\n",
    "        Err = Err_n\n",
    "        w_best = w\n",
    "        println(\"# ϵ = \",Err_n)\n",
    "    end\n",
    "end\n",
    "\n",
    "w_best"
   ]
  },
  {
   "cell_type": "code",
   "execution_count": null,
   "metadata": {},
   "outputs": [],
   "source": [
    "f(2)"
   ]
  },
  {
   "cell_type": "code",
   "execution_count": null,
   "metadata": {},
   "outputs": [],
   "source": [
    "w .*= 3"
   ]
  },
  {
   "cell_type": "code",
   "execution_count": null,
   "metadata": {},
   "outputs": [],
   "source": [
    "P2 = Ψ_exact.(x,2).^2\n",
    "sum(prob)*(x[2]-x[1])"
   ]
  },
  {
   "cell_type": "code",
   "execution_count": null,
   "metadata": {},
   "outputs": [],
   "source": [
    "plot(x,prob)\n",
    "plot(x,P2)"
   ]
  },
  {
   "cell_type": "code",
   "execution_count": null,
   "metadata": {},
   "outputs": [],
   "source": [
    "p1 = plot()\n",
    "\n",
    "# title = \"Ψ_G(x) for \\n b = $b, \\nc=$c, \\nw=$w\"\n",
    "\n",
    "plot!(x, prob, label = \"abs(Ψ_G(x))\", xlabel = \"x\", ylabel = \"Ψ_G(x)\", title = \"Analytic vs trial comparison\\n E_trial=$E\", lw = 4)\n",
    "plot!(x, analytic_prob, label = \"abs(Ψ_G(x)) analytic\", lw = 2)\n",
    "\n",
    "p2 = plot()\n",
    "\n",
    "plot!(x[1:end-1],df(prob), label = \"rng\", lw = 4, title=\"dΨ_G(x)/dx\", ylabel=\"dΨ_G(x)/dx\", xlabel=\"x\")\n",
    "plot!(x[1:end-1],df(analytic_prob), label = \"analytic\", lw = 2)\n",
    "\n",
    "p3 = plot()\n",
    "\n",
    "plot!(x, real.(y)./sum(abs.(y).^2), label = \"real(Ψ_G(x))\", lw = 4, xlabel=\"x\", ylabel=\"Ψ_G(x) (re or im)\", title=\"Ψ_{trial} decomposition\")\n",
    "# plot!(x, real.(y_analytic)./sum(abs.(y_analytic).^2), label = \"real(Ψ_G(x)) analytic\", lw = 2)\n",
    "plot!(x, imag.(y)./sum(abs.(y).^2), label = \"imag(Ψ_G(x))\", lw = 4)\n",
    "\n",
    "#plot(p1, p2, p3, layout = (3,1), size = (800, 800))\n",
    "\n"
   ]
  },
  {
   "cell_type": "code",
   "execution_count": null,
   "metadata": {},
   "outputs": [],
   "source": [
    "println(round.(imag.(w[1:8]),digits=3))"
   ]
  },
  {
   "cell_type": "markdown",
   "metadata": {},
   "source": [
    "If we want the wf to be symmetric, $N_h$ must be even. On top of that, $W$ must have $N_h$ degrees of freedom. The others are fixed such that $W_{j+N_h}=-W_j\\ j=1,2,...,N_h/2$"
   ]
  },
  {
   "cell_type": "code",
   "execution_count": null,
   "metadata": {},
   "outputs": [],
   "source": [
    "energy(λ, b, c, w)"
   ]
  },
  {
   "cell_type": "code",
   "execution_count": null,
   "metadata": {},
   "outputs": [],
   "source": [
    "x_test = range(-10, stop = 10, length = 100000)\n",
    "y_test = x_test\n",
    "plot(y_test, label = \"x^2\", lw = 2)\n",
    "plot!(df(y_test), label = \"dx\", lw = 2)"
   ]
  },
  {
   "cell_type": "code",
   "execution_count": null,
   "metadata": {},
   "outputs": [],
   "source": [
    "println(round.(w, digits=3))"
   ]
  },
  {
   "cell_type": "code",
   "execution_count": null,
   "metadata": {},
   "outputs": [],
   "source": [
    "function Hermite(x,n)\n",
    "    if n == 0\n",
    "        return 1\n",
    "    elseif n == 1\n",
    "        return 2*x\n",
    "    else\n",
    "        return 2*x*Hermite(x,n-1) - 2*(n-1)*Hermite(x,n-2) # Recurrence relation of Hermite polynomials\n",
    "    end\n",
    "end"
   ]
  },
  {
   "cell_type": "code",
   "execution_count": null,
   "metadata": {},
   "outputs": [],
   "source": [
    "function Ψ_exact(x,n)\n",
    "    return 1/sqrt(2^n*factorial(n))*π^(-1/4)*Hermite(x,n)*exp(-x^2/2)\n",
    "end"
   ]
  },
  {
   "cell_type": "code",
   "execution_count": null,
   "metadata": {},
   "outputs": [],
   "source": [
    "x = range(-10, stop = 10, length = 1000)\n",
    "plot(x, Ψ_exact.(x,0), label = \"n=0\", lw = 2)\n",
    "plot!(x, Ψ_exact.(x,1), label = \"n=1\", lw = 2)\n",
    "plot!(x, Ψ_exact.(x,2), label = \"n=2\", lw = 2)\n",
    "plot!(x, Ψ_exact.(x,3), label = \"n=3\", lw = 2)\n"
   ]
  },
  {
   "cell_type": "code",
   "execution_count": null,
   "metadata": {},
   "outputs": [],
   "source": [
    "plot(x, Ψ_exact.(x,0).^2, label = \"n=0\", lw = 2)\n",
    "plot!(x, Ψ_exact.(x,1).^2, label = \"n=1\", lw = 2)\n",
    "plot!(x, Ψ_exact.(x,0), label = \"n=0\", lw = 2)\n",
    "plot!(x, Ψ_exact.(x,1), label = \"n=1\", lw = 2)\n",
    "# plot!(x, Ψ_exact.(x,2).^2, label = \"n=2\", lw = 2)\n",
    "# plot!(x, Ψ_exact.(x,3).^2, label = \"n=3\", lw = 2)"
   ]
  },
  {
   "cell_type": "code",
   "execution_count": null,
   "metadata": {},
   "outputs": [],
   "source": [
    "using Zygote"
   ]
  },
  {
   "cell_type": "code",
   "execution_count": null,
   "metadata": {},
   "outputs": [],
   "source": [
    "function ∇f(f,x)\n",
    "    return gradient(x->f(x),x)\n",
    "end\n",
    "\n",
    "using Plots\n",
    "\n",
    "x_range = Array(range(-10, stop = 10, length = 10))\n",
    "\n",
    "∇f.(x->x^2,x_range)\n",
    "\n",
    "# plot(x_range, x->x^2, label = \"x^2\", lw = 2)\n",
    "\n",
    "\n",
    "# plot!(x_range, ∇f.(x->x^2,x_range), label = \"dx\", lw = 2)\n",
    "\n",
    "# plot!(x_range, x->2*x, label = \"2x\", lw = 2)"
   ]
  },
  {
   "cell_type": "code",
   "execution_count": null,
   "metadata": {},
   "outputs": [],
   "source": [
    "x = [1.,1.,2.]\n",
    "\n",
    "x |> sum |> sqrt"
   ]
  },
  {
   "cell_type": "code",
   "execution_count": null,
   "metadata": {},
   "outputs": [],
   "source": [
    "function σ(x)\n",
    "    return 1/(1+exp(-x))\n",
    "end\n",
    "\n",
    "function energy(λ, b, c, w, position=0.0, xmin=-10, xmax=10, n=100000)\n",
    "    x_vec = range(xmin, xmax, length=n)\n",
    "    h = sum(x[2:end].-x[1:end-1])/(length(x)-1)\n",
    "    probability = abs2.(Ψ_G.(x_vec, λ, b, c, w))\n",
    "\n",
    "    d2ψ(x) = hessian(x->Ψ_G(x,λ,b,c,w),x) # second derivative\n",
    "    Tloc = -0.5.*d2ψ.(x_vec) ./ (Ψ_G.(x_vec, λ, b, c, w)) # local kinetic energy\n",
    "    Vloc =  (0.5 .*x_vec.^2) # local potential energy\n",
    "    Eloc =  (Tloc + Vloc) # local energy\n",
    "    return real(Simpson(probability .* Eloc,h) / Simpson(probability,h)) # expectation value of the energy\n",
    "end"
   ]
  },
  {
   "cell_type": "code",
   "execution_count": null,
   "metadata": {},
   "outputs": [],
   "source": []
  },
  {
   "cell_type": "code",
   "execution_count": null,
   "metadata": {},
   "outputs": [],
   "source": [
    "function kinetic_factor(x,λ,b,c,w)\n",
    "    N_h = length(c)\n",
    "    wsigma = sum([w[i]*σ(c[i]+x*w[i]) for i = 1:N_h])\n",
    "    w2sigma = sum([w[i]^2*σ(c[i]+x*w[i]) for i = 1:N_h])\n",
    "    println(wsigma)\n",
    "    println(w2sigma)\n",
    "    non_diag = 2* sum([w[i]*w[j]*σ(c[i]+x*w[i])*σ(c[j]+x*w[j]) for i = 1:N_h-1 for j = i+1:N_h])\n",
    "    return 2. * λ * (λ * x^2. - 1.) - 3. * λ * x*(wsigma+b)+b^2+2*b*wsigma+w2sigma+non_diag \n",
    "end"
   ]
  },
  {
   "cell_type": "code",
   "execution_count": null,
   "metadata": {},
   "outputs": [],
   "source": [
    "kinetic_factor(0.0,λ,b,c,w)"
   ]
  },
  {
   "cell_type": "code",
   "execution_count": null,
   "metadata": {},
   "outputs": [],
   "source": [
    "function E_loc_analytic(x,λ,b,c,w)\n",
    "    return x^2 - kinetic_factor(x,λ,b,c,w)\n",
    "end"
   ]
  },
  {
   "cell_type": "code",
   "execution_count": null,
   "metadata": {},
   "outputs": [],
   "source": [
    "function energy2(λ, b, c, w, position=0.0, xmin=-10, xmax=10, n=100000)\n",
    "    x_vec = range(xmin, xmax, length=n)\n",
    "    h = sum(x[2:end].-x[1:end-1])/(length(x)-1)\n",
    "    probability = abs2.(Ψ_G.(x_vec, λ, b, c, w))\n",
    "    Eloc =  E_loc_analytic.(x_vec,λ,b,c,w)\n",
    "    return real(Simpson(probability .* Eloc,h) / Simpson(probability,h)) # expectation value of the energy\n",
    "end"
   ]
  },
  {
   "cell_type": "code",
   "execution_count": null,
   "metadata": {},
   "outputs": [],
   "source": [
    "energy2(0.5,0.,0.,0.)"
   ]
  },
  {
   "cell_type": "code",
   "execution_count": null,
   "metadata": {},
   "outputs": [],
   "source": [
    "x = range(-10, stop = 10, length = 100000)\n",
    "plot(x,x->Ψ_G(x, 0.5, 0., 0., 0.), title=\"energy = $(energy2(0.5, 0., [0.], [0.]))\", lw = 2)"
   ]
  },
  {
   "cell_type": "code",
   "execution_count": null,
   "metadata": {},
   "outputs": [],
   "source": [
    "gradient(λ->energy(λ,0.,0.,0.), 0.5)"
   ]
  },
  {
   "cell_type": "code",
   "execution_count": null,
   "metadata": {},
   "outputs": [],
   "source": []
  }
 ],
 "metadata": {
  "kernelspec": {
   "display_name": "Julia 1.11.3",
   "language": "julia",
   "name": "julia-1.11"
  },
  "language_info": {
   "file_extension": ".jl",
   "mimetype": "application/julia",
   "name": "julia",
   "version": "1.11.3"
  }
 },
 "nbformat": 4,
 "nbformat_minor": 2
}
