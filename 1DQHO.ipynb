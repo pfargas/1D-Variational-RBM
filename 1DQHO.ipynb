{
 "cells": [
  {
   "cell_type": "markdown",
   "id": "0144afc4-7f77-493b-996e-5937d7a5bf0f",
   "metadata": {},
   "source": [
    "## 1D QHO\n",
    "\n",
    "> We want to find the minimum Energy\n",
    "\n",
    "### Steps\n",
    "\n",
    "- Program the wavefunction $\\Psi(x)=e^{xb}\\Gamma(x)$ with $\\Gamma(x)=\\prod_{j=1}^M(1+e^{c_j+xW_j})$"
   ]
  },
  {
   "cell_type": "code",
   "execution_count": 1,
   "id": "6e41fabe-347b-4cec-aa0c-985e2da7b4d9",
   "metadata": {},
   "outputs": [],
   "source": [
    "using Random"
   ]
  },
  {
   "cell_type": "code",
   "execution_count": 69,
   "id": "3b21e91e-d47d-4c73-b9e5-324c82bfd0ab",
   "metadata": {},
   "outputs": [],
   "source": [
    "N_hidden = 5\n",
    "visible_bias = 1\n",
    "W = rand(N_hidden)\n",
    "# W = repeat([0.5], N_hidden)\n",
    "hidden_bias = repeat([1], N_hidden);"
   ]
  },
  {
   "cell_type": "code",
   "execution_count": 70,
   "id": "1aaf9f76-1817-4695-8abb-ca1b5f5e501a",
   "metadata": {},
   "outputs": [
    {
     "data": {
      "text/plain": [
       "Γ (generic function with 1 method)"
      ]
     },
     "execution_count": 70,
     "metadata": {},
     "output_type": "execute_result"
    }
   ],
   "source": [
    "function Γ(x)\n",
    "    gamma=1\n",
    "    for i in 1:N_hidden\n",
    "        gamma = gamma.*(1 .+ exp.(hidden_bias[i].+x.*W[i]))\n",
    "    end\n",
    "    return gamma\n",
    "end"
   ]
  },
  {
   "cell_type": "code",
   "execution_count": 71,
   "id": "b75b6b13-cd9c-4f79-8142-6e4f9a31082e",
   "metadata": {},
   "outputs": [
    {
     "data": {
      "text/plain": [
       "Ψ (generic function with 1 method)"
      ]
     },
     "execution_count": 71,
     "metadata": {},
     "output_type": "execute_result"
    }
   ],
   "source": [
    "function Ψ(x)\n",
    "    return exp.(x.*visible_bias).*Γ(x)\n",
    "end"
   ]
  },
  {
   "cell_type": "markdown",
   "id": "d722e3b1-0fa7-472b-9b41-273ea6f6cbbe",
   "metadata": {},
   "source": [
    "#### We define the simpson method to integrate"
   ]
  },
  {
   "cell_type": "code",
   "execution_count": 72,
   "id": "89e07a69-7e96-4b1b-b96f-b72f38ad9ded",
   "metadata": {},
   "outputs": [
    {
     "data": {
      "text/plain": [
       "simps (generic function with 1 method)"
      ]
     },
     "execution_count": 72,
     "metadata": {},
     "output_type": "execute_result"
    }
   ],
   "source": [
    "function simps(f::Function, a::Number, b::Number, n::Number)\n",
    "    n % 2 == 0 || error(\"`n` must be even\")\n",
    "    h = (b-a)/n\n",
    "    s = f(a) + f(b)\n",
    "    s += 4*sum(f(a .+ collect(1:2:n) .* h))\n",
    "    s += 2*sum(f(a .+ collect(2:2:n-1) .* h))\n",
    "    return h/3 * s\n",
    "end"
   ]
  },
  {
   "cell_type": "markdown",
   "id": "fc8e7bab-efe3-4ba5-b0d6-cbbd24abb2d3",
   "metadata": {},
   "source": [
    "Test simpson (if working, output really close to 1)"
   ]
  },
  {
   "cell_type": "code",
   "execution_count": 73,
   "id": "dfb5d135-7990-4793-8193-b3a7c9df16db",
   "metadata": {},
   "outputs": [
    {
     "name": "stdout",
     "output_type": "stream",
     "text": [
      "1.0000004223322003\n"
     ]
    }
   ],
   "source": [
    "function gauss(x)\n",
    "    a = 1/(2*3.14159)^(0.5)\n",
    "    return a.*exp.(-0.5.*x.^2)\n",
    "end\n",
    "\n",
    "integral = simps(gauss, -10,10,5000)\n",
    "println(integral)"
   ]
  },
  {
   "cell_type": "code",
   "execution_count": 74,
   "id": "db5f224a-b703-4ebb-b8da-5a152fa7fdec",
   "metadata": {},
   "outputs": [
    {
     "data": {
      "text/plain": [
       "5.3543541217672005e7"
      ]
     },
     "execution_count": 74,
     "metadata": {},
     "output_type": "execute_result"
    }
   ],
   "source": [
    "normalization = simps(x->(Ψ(x)).^2,-1,1,1000)\n",
    "normalization\n"
   ]
  },
  {
   "cell_type": "markdown",
   "id": "c040e90e-1638-49ac-bcbb-3a9fbae060e3",
   "metadata": {},
   "source": [
    "> Define auxiliary functions σ and σ_i"
   ]
  },
  {
   "cell_type": "code",
   "execution_count": 75,
   "id": "9da09662-a793-46b8-8bec-4857eeacbf7d",
   "metadata": {},
   "outputs": [],
   "source": [
    "function σ(x)\n",
    "    return 1 ./ (1 .+ exp.(-(x)))\n",
    "end\n",
    "\n",
    "function σ_i(x,i::Int)\n",
    "    return σ(hidden_bias[i].+x.*W[i])\n",
    "end;"
   ]
  },
  {
   "cell_type": "markdown",
   "id": "3fd34e1b-af11-4486-8e7a-27de0cf3d661",
   "metadata": {},
   "source": [
    "## Kinetic term\n",
    "\n",
    "$$\\frac{\\partial ^2}{\\partial^2 x} \\Psi (x) = \\sum_{\\{\\vec{h}\\}}e^{xb+\\vec{c}'\\vec{h}+x\\vec{W}\\vec{h}}(b+\\vec{W}\\vec{h})^2$$\n",
    "\n",
    "Then we have 3 terms:\n",
    "- $\\eta_1\\Psi=b^2\\sum_{\\{\\vec{h}\\}}e^{xb+\\vec{c}'\\vec{h}+x\\vec{W}\\vec{h}} = b^2\\Psi(x)$\n",
    "- $\\eta_2\\Psi=2b\\vec{W}\\sum_{\\{\\vec{h}\\}}e^{xb+\\vec{c}'\\vec{h}+x\\vec{W}\\vec{h}}\\vec{h} = 2b(\\vec{W}\\cdot\\vec{\\sigma})\\Psi(x)$\n",
    "- $\\eta_1\\Psi=\\sum_{i,j=1}^MW_iW_j\\sum_{\\{\\vec{h}\\}}e^{xb+\\vec{c}'\\vec{h}+x\\vec{W}\\vec{h}}h_i h_j=\\Psi(x)\\sum_{i,j}^M W_iW_j(\\delta_{ij}\\sigma_i+\\sigma_i\\sigma_j(1-\\delta_{ij}))$\n",
    "\n",
    "> Careful! defined here different from notes, here each term is $\\eta_i\\Psi$\n"
   ]
  },
  {
   "cell_type": "code",
   "execution_count": 76,
   "id": "f21893a3-34df-46c8-9c4b-db8992580d6c",
   "metadata": {},
   "outputs": [
    {
     "data": {
      "text/plain": [
       "kinetic_terms (generic function with 1 method)"
      ]
     },
     "execution_count": 76,
     "metadata": {},
     "output_type": "execute_result"
    }
   ],
   "source": [
    "function η_1(x)\n",
    "    return visible_bias^2\n",
    "end\n",
    "\n",
    "function η_2(x)\n",
    "    W_dot_σ=0\n",
    "    for i in 1:N_hidden\n",
    "# Error here?\n",
    "        W_dot_σ = W[i].+σ_i(x,i).+W_dot_σ\n",
    "    end\n",
    "    return 2 .*visible_bias.*W_dot_σ\n",
    "end\n",
    "\n",
    "function η_3(x)\n",
    "    total_sum = 0\n",
    "    for i in 1:N_hidden\n",
    "        for j in 1:N_hidden\n",
    "            if i == j\n",
    "                total_sum = W[i].^2 .* σ_i(x,i) .+ total_sum\n",
    "            else\n",
    "                total_sum = W[i]*W[j] .* σ_i(x,i).* σ_i(x,j) .+ total_sum\n",
    "            end\n",
    "        end\n",
    "    end\n",
    "    return total_sum\n",
    "end\n",
    "\n",
    "function kinetic_terms(x)\n",
    "    return η_1(x).+η_2(x).+η_3(x)\n",
    "end"
   ]
  },
  {
   "cell_type": "markdown",
   "id": "a085a968-b79e-4fe5-8613-98ba384b5bee",
   "metadata": {},
   "source": [
    "Then, the kinetic term $\\langle\\Psi|\\hat{T}|\\Psi\\rangle = -\\frac{1}{2}\\Psi(x)\\frac{\\partial^2}{\\partial x^2}\\Psi(x)$ can be expressed as:\n",
    "\n",
    "$$\\langle\\Psi|\\hat{T}|\\Psi\\rangle=-\\frac{1}{2}\\Psi(x)^2(\\eta_1+\\eta_2+\\eta_3) $$"
   ]
  },
  {
   "cell_type": "markdown",
   "id": "1030b61a-336f-456e-9552-925aa69adc32",
   "metadata": {},
   "source": [
    "## Potential\n",
    "\n",
    "Included in energy"
   ]
  },
  {
   "cell_type": "markdown",
   "id": "37f309e7-b968-48b0-a1f0-a7c655d46144",
   "metadata": {},
   "source": [
    "## Energy"
   ]
  },
  {
   "cell_type": "code",
   "execution_count": 98,
   "id": "25af5424-75a9-44f3-b116-780731e30dd7",
   "metadata": {},
   "outputs": [
    {
     "data": {
      "text/plain": [
       "19.850463007111333"
      ]
     },
     "execution_count": 98,
     "metadata": {},
     "output_type": "execute_result"
    }
   ],
   "source": [
    "function energy_integrand(x)\n",
    "    return (Ψ(x)).^2 .* (kinetic_terms(x)+0.5.* x.^2)\n",
    "end\n",
    "\n",
    "function energy(a,b,n)\n",
    "    numerator = simps(energy_integrand, a,b,n)\n",
    "    denominator = simps(x->(Ψ(x)).^2,a,b,n)\n",
    "    return numerator/denominator\n",
    "end\n",
    "\n",
    "W = rand(N_hidden)\n",
    "\n",
    "energy(-2,2,10000)"
   ]
  },
  {
   "cell_type": "code",
   "execution_count": null,
   "id": "05bcf08f-f87d-4dc5-8070-d88afbfad237",
   "metadata": {},
   "outputs": [],
   "source": []
  },
  {
   "cell_type": "code",
   "execution_count": null,
   "id": "71d20cdf-a893-4df9-b65c-5fdacc949ba2",
   "metadata": {},
   "outputs": [],
   "source": []
  }
 ],
 "metadata": {
  "kernelspec": {
   "display_name": "Julia 1.11.2",
   "language": "julia",
   "name": "julia-1.11"
  },
  "language_info": {
   "file_extension": ".jl",
   "mimetype": "application/julia",
   "name": "julia",
   "version": "1.11.2"
  }
 },
 "nbformat": 4,
 "nbformat_minor": 5
}
