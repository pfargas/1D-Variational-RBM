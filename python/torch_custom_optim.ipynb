{
 "cells": [
  {
   "cell_type": "code",
   "execution_count": 1,
   "id": "2b1fdbe9",
   "metadata": {},
   "outputs": [],
   "source": [
    "import torch\n",
    "import torch.nn as nn"
   ]
  },
  {
   "cell_type": "code",
   "execution_count": 2,
   "id": "44084c34",
   "metadata": {},
   "outputs": [],
   "source": [
    "device = torch.device(\"cuda\" if torch.cuda.is_available() else \"cpu\")"
   ]
  },
  {
   "cell_type": "code",
   "execution_count": 15,
   "id": "af36e2fb",
   "metadata": {},
   "outputs": [],
   "source": [
    "class CustomOptim(torch.optim.Optimizer):\n",
    "    def __init__(self, params, lr=0.001):\n",
    "        defaults = dict(lr=lr)\n",
    "        super(CustomOptim, self).__init__(params, defaults)\n",
    "\n",
    "    def step(self):\n",
    "        for group in self.param_groups:\n",
    "            print(f\"Group {group}\")\n",
    "\n",
    "class CustomModel(nn.Module):\n",
    "    def __init__(self):\n",
    "        super(CustomModel, self).__init__()\n",
    "        self.fc = nn.Sequential(\n",
    "            nn.Linear(2, 2),\n",
    "            nn.ReLU(),\n",
    "            nn.Linear(2, 1)\n",
    "        )\n",
    "        self.b = nn.Parameter(torch.tensor(0.0, device=device), requires_grad=True)\n",
    "\n",
    "    def forward(self, x):\n",
    "        return self.fc(x)"
   ]
  },
  {
   "cell_type": "code",
   "execution_count": 16,
   "id": "8d924f37",
   "metadata": {},
   "outputs": [],
   "source": [
    "model = CustomModel().to(device)\n",
    "optimizer = CustomOptim(model.parameters())"
   ]
  },
  {
   "cell_type": "code",
   "execution_count": 17,
   "id": "ab3b84c3",
   "metadata": {},
   "outputs": [
    {
     "name": "stdout",
     "output_type": "stream",
     "text": [
      "Group {'params': [Parameter containing:\n",
      "tensor(0., device='cuda:0', requires_grad=True), Parameter containing:\n",
      "tensor([[ 0.0820,  0.3372],\n",
      "        [-0.6412,  0.2362]], device='cuda:0', requires_grad=True), Parameter containing:\n",
      "tensor([-0.5247, -0.1420], device='cuda:0', requires_grad=True), Parameter containing:\n",
      "tensor([[ 0.2790, -0.3160]], device='cuda:0', requires_grad=True), Parameter containing:\n",
      "tensor([-0.5028], device='cuda:0', requires_grad=True)], 'lr': 0.001}\n"
     ]
    }
   ],
   "source": [
    "optimizer.step()"
   ]
  },
  {
   "cell_type": "code",
   "execution_count": null,
   "id": "bd5142a6",
   "metadata": {},
   "outputs": [],
   "source": []
  }
 ],
 "metadata": {
  "kernelspec": {
   "display_name": "base",
   "language": "python",
   "name": "python3"
  },
  "language_info": {
   "codemirror_mode": {
    "name": "ipython",
    "version": 3
   },
   "file_extension": ".py",
   "mimetype": "text/x-python",
   "name": "python",
   "nbconvert_exporter": "python",
   "pygments_lexer": "ipython3",
   "version": "3.12.7"
  }
 },
 "nbformat": 4,
 "nbformat_minor": 5
}
