{
 "cells": [
  {
   "cell_type": "code",
   "execution_count": 4,
   "id": "d8b32be9",
   "metadata": {},
   "outputs": [],
   "source": [
    "import os\n",
    "import sys\n",
    "import torch\n",
    "import torch.nn as nn\n",
    "import numpy as np\n",
    "import matplotlib.pyplot as plt\n",
    "import matplotlib.animation as animation\n",
    "\n",
    "from torch_wavefunction_GP import *"
   ]
  },
  {
   "cell_type": "code",
   "execution_count": 6,
   "id": "10a3aa88",
   "metadata": {},
   "outputs": [
    {
     "name": "stdout",
     "output_type": "stream",
     "text": [
      "Using device: cpu\n"
     ]
    }
   ],
   "source": [
    "device = torch.device(\"cuda\" if torch.cuda.is_available() else \"cpu\")\n",
    "print(f\"Using device: {device}\")"
   ]
  },
  {
   "cell_type": "code",
   "execution_count": 2,
   "id": "a14b4248",
   "metadata": {},
   "outputs": [],
   "source": [
    "class WavefunctionResults:\n",
    "    def __init__(self):\n",
    "        self.wavefunctions = []\n",
    "        self.convergence_energies = []\n",
    "        self.final_wavefunctions = []\n",
    "        self.final_energies = []\n",
    "        self.torch_wavefunctions = []"
   ]
  },
  {
   "cell_type": "code",
   "execution_count": 3,
   "id": "e16292e3",
   "metadata": {},
   "outputs": [],
   "source": [
    "def train_single_state(results: WavefunctionResults, x_train,layout=[1,60,60,1], **kwargs):\n",
    "    model = WaveFunctionMLP(layout).to(device)\n",
    "    \n",
    "    if \"callback\" in kwargs:\n",
    "        callback_kwargs = kwargs[\"callback\"]\n",
    "        assert isinstance(callback_kwargs, dict), \"callback_kwargs must be a dictionary\"\n",
    "    else:\n",
    "        callback_kwargs = {}\n",
    "    if \"train\" in kwargs:\n",
    "        train_kwargs = kwargs[\"train\"]\n",
    "        assert isinstance(train_kwargs, dict), \"train_kwargs must be a dictionary\"\n",
    "    else:\n",
    "        train_kwargs = {}\n",
    "    \n",
    "    \n",
    "    for key in kwargs:\n",
    "        if ((key != \"callback\") and (key != \"train\")):\n",
    "            print(f\"Unknown keyword argument: {key}\")\n",
    "    \n",
    "    if \"patience\" not in callback_kwargs:\n",
    "        callback_kwargs['patience'] = 250\n",
    "    if \"min_delta\" not in callback_kwargs:\n",
    "        callback_kwargs['min_delta'] = 0.0001\n",
    "        \n",
    "    if \"lr\" not in train_kwargs:\n",
    "        train_kwargs['lr'] = 0.001\n",
    "    if \"epochs\" not in train_kwargs:\n",
    "        train_kwargs['epochs'] = 1000\n",
    "    if \"save_wavefunction_history\" not in train_kwargs:\n",
    "        train_kwargs['save_wavefunction_history'] = False\n",
    "    # if \"save_energy_history\" not in train_kwargs:\n",
    "    #     train_kwargs['save_energy_history'] = False\n",
    "    if \"previous_wavefunctions\" not in train_kwargs:\n",
    "        train_kwargs['previous_wavefunctions'] = None\n",
    "    \n",
    "    early_stopping = EarlyStoppingCallback(patience = callback_kwargs['patience'], min_delta =  callback_kwargs['min_delta'])\n",
    "    psi_normalized_cpu, energy_fin, energy_hist, wf_hist, psi_normalized_torch = train_wavefunction(model, \n",
    "                                                                                                    x_train, \n",
    "                                                                                                    callback=early_stopping, \n",
    "                                                                                                    **train_kwargs)\n",
    "    results.wavefunctions.append(wf_hist)\n",
    "    results.convergence_energies.append(energy_hist)\n",
    "    results.final_wavefunctions.append(psi_normalized_cpu)\n",
    "    results.final_energies.append(energy_fin)\n",
    "    results.torch_wavefunctions.append(psi_normalized_torch)\n",
    "    return True"
   ]
  },
  {
   "cell_type": "code",
   "execution_count": 34,
   "id": "7b894b2b",
   "metadata": {},
   "outputs": [
    {
     "name": "stdout",
     "output_type": "stream",
     "text": [
      "Unknown keyword argument: boundary_conditions\n",
      "Epoch 0: Energy = 222.755051\n",
      "Epoch 100: Energy = 208.599197\n",
      "Epoch 200: Energy = 195.150543\n",
      "Epoch 300: Energy = 182.371231\n",
      "Epoch 400: Energy = 170.215881\n",
      "Epoch 500: Energy = 158.638290\n",
      "Epoch 600: Energy = 147.591202\n",
      "Epoch 700: Energy = 137.027451\n",
      "Epoch 800: Energy = 126.901642\n",
      "Epoch 900: Energy = 117.169991\n",
      "Epoch 1000: Energy = 107.789078\n",
      "Epoch 1100: Energy = 98.716515\n",
      "Epoch 1200: Energy = 89.914658\n",
      "Epoch 1300: Energy = 81.363091\n",
      "Epoch 1400: Energy = 73.086838\n",
      "Epoch 1500: Energy = 65.201744\n",
      "Epoch 1600: Energy = 57.942921\n",
      "Epoch 1700: Energy = 51.636036\n",
      "Epoch 1800: Energy = 46.574310\n",
      "Epoch 1900: Energy = 42.858074\n",
      "Epoch 2000: Energy = 40.338375\n",
      "Epoch 2100: Energy = 38.713066\n",
      "Epoch 2200: Energy = 37.668167\n",
      "Epoch 2300: Energy = 36.960190\n",
      "Epoch 2400: Energy = 36.430767\n",
      "Epoch 2500: Energy = 35.988136\n",
      "Epoch 2600: Energy = 35.583572\n",
      "Epoch 2700: Energy = 35.192905\n",
      "Epoch 2800: Energy = 34.804989\n",
      "Epoch 2900: Energy = 34.415024\n",
      "Epoch 3000: Energy = 34.021152\n",
      "Epoch 3100: Energy = 33.622753\n",
      "Epoch 3200: Energy = 33.219757\n",
      "Epoch 3300: Energy = 32.812241\n",
      "Epoch 3400: Energy = 32.400341\n",
      "Epoch 3500: Energy = 31.984201\n",
      "Epoch 3600: Energy = 31.563955\n",
      "Epoch 3700: Energy = 31.139725\n",
      "Epoch 3800: Energy = 30.711582\n",
      "Epoch 3900: Energy = 30.279610\n",
      "Epoch 4000: Energy = 29.843857\n",
      "Epoch 4100: Energy = 29.404350\n",
      "Epoch 4200: Energy = 28.961100\n",
      "Epoch 4300: Energy = 28.514076\n",
      "Epoch 4400: Energy = 28.063282\n",
      "Epoch 4500: Energy = 27.608591\n",
      "Epoch 4600: Energy = 27.149902\n",
      "Epoch 4700: Energy = 26.687010\n",
      "Epoch 4800: Energy = 26.219671\n",
      "Epoch 4900: Energy = 25.747541\n",
      "Epoch 5000: Energy = 25.270134\n",
      "Epoch 5100: Energy = 24.786823\n",
      "Epoch 5200: Energy = 24.296743\n",
      "Epoch 5300: Energy = 23.798761\n",
      "Epoch 5400: Energy = 23.291370\n",
      "Epoch 5500: Energy = 22.772596\n",
      "Epoch 5600: Energy = 22.239851\n",
      "Epoch 5700: Energy = 21.689823\n",
      "Epoch 5800: Energy = 21.118336\n",
      "Epoch 5900: Energy = 20.520256\n",
      "Epoch 6000: Energy = 19.889517\n",
      "Epoch 6100: Energy = 19.219269\n",
      "Epoch 6200: Energy = 18.502146\n",
      "Epoch 6300: Energy = 17.730618\n",
      "Epoch 6400: Energy = 16.897091\n",
      "Epoch 6500: Energy = 15.993706\n",
      "Epoch 6600: Energy = 15.011334\n",
      "Epoch 6700: Energy = 13.938359\n",
      "Epoch 6800: Energy = 12.759439\n",
      "Epoch 6900: Energy = 11.455282\n",
      "Epoch 7000: Energy = 10.005559\n",
      "Epoch 7100: Energy = 8.400922\n",
      "Epoch 7200: Energy = 6.682119\n",
      "Epoch 7300: Energy = 5.043314\n",
      "Epoch 7400: Energy = 3.924866\n",
      "Epoch 7500: Energy = 3.511526\n",
      "Epoch 7600: Energy = 3.354011\n",
      "Epoch 7700: Energy = 3.221680\n",
      "Epoch 7800: Energy = 3.093248\n",
      "Epoch 7900: Energy = 2.968698\n",
      "Epoch 8000: Energy = 2.848599\n",
      "Epoch 8100: Energy = 2.733330\n",
      "Epoch 8200: Energy = 2.623056\n",
      "Epoch 8300: Energy = 2.517783\n",
      "Epoch 8400: Energy = 2.417421\n",
      "Epoch 8500: Energy = 2.321853\n",
      "Epoch 8600: Energy = 2.230976\n",
      "Epoch 8700: Energy = 2.144717\n",
      "Epoch 8800: Energy = 2.063040\n",
      "Epoch 8900: Energy = 1.985909\n",
      "Epoch 9000: Energy = 1.913264\n",
      "Epoch 9100: Energy = 1.844982\n",
      "Epoch 9200: Energy = 1.780834\n",
      "Epoch 9300: Energy = 1.720485\n",
      "Epoch 9400: Energy = 1.663501\n",
      "Epoch 9500: Energy = 1.609401\n",
      "Epoch 9600: Energy = 1.557719\n",
      "Epoch 9700: Energy = 1.508067\n",
      "Epoch 9800: Energy = 1.460150\n",
      "Epoch 9900: Energy = 1.413766\n",
      "Epoch 10000: Energy = 1.368779\n",
      "Epoch 10100: Energy = 1.325093\n",
      "Epoch 10200: Energy = 1.282635\n",
      "Epoch 10300: Energy = 1.241342\n",
      "Epoch 10400: Energy = 1.201154\n",
      "Epoch 10500: Energy = 1.162012\n",
      "Epoch 10600: Energy = 1.123860\n",
      "Epoch 10700: Energy = 1.086637\n",
      "Epoch 10800: Energy = 1.050283\n",
      "Epoch 10900: Energy = 1.014736\n",
      "Epoch 11000: Energy = 0.979931\n",
      "Epoch 11100: Energy = 0.945800\n",
      "Epoch 11200: Energy = 0.912272\n",
      "Epoch 11300: Energy = 0.879270\n",
      "Epoch 11400: Energy = 0.847472\n",
      "Epoch 11500: Energy = 0.816622\n",
      "Epoch 11600: Energy = 0.786241\n",
      "Epoch 11700: Energy = 0.756735\n",
      "Epoch 11800: Energy = 0.727932\n",
      "Epoch 11900: Energy = 0.699954\n",
      "Epoch 12000: Energy = 0.672550\n",
      "Epoch 12100: Energy = 0.645752\n",
      "Epoch 12200: Energy = 0.619324\n",
      "Epoch 12300: Energy = 0.593875\n",
      "Epoch 12400: Energy = 0.568308\n",
      "Epoch 12500: Energy = 0.544033\n",
      "Epoch 12600: Energy = 0.526391\n",
      "Epoch 12700: Energy = 0.513808\n",
      "Epoch 12800: Energy = 0.510374\n",
      "Epoch 12900: Energy = 0.509276\n",
      "Epoch 13000: Energy = 0.508883\n",
      "Stopping training after 13063 epochs due to no improvement in energy.\n",
      "Training stopped early at epoch 13063\n"
     ]
    },
    {
     "data": {
      "text/plain": [
       "True"
      ]
     },
     "execution_count": 34,
     "metadata": {},
     "output_type": "execute_result"
    }
   ],
   "source": [
    "x_train = torch.linspace(-10, 10, 1000, dtype=torch.float32, device=device).view(-1, 1)\n",
    "x_train.requires_grad = True\n",
    "results = WavefunctionResults()\n",
    "\n",
    "callback_kwargs_0 = {\n",
    "    \"patience\": 300,\n",
    "    \"min_delta\": 1e-2,\n",
    "    }\n",
    "train_kwargs_0 = {\n",
    "    \"lr\": 0.00005,\n",
    "    \"epochs\": 30000,\n",
    "    \"save_wavefunction_history\": True,\n",
    "    # \"save_energy_history\": True,\n",
    "    \"previous_wavefunctions\": None,\n",
    "    }\n",
    "\n",
    "options_0 = {\n",
    "    \"callback\": callback_kwargs_0,\n",
    "    \"train\": train_kwargs_0,\n",
    "    }\n",
    "\n",
    "train_single_state(results, x_train, layout=[1,7,1], boundary_conditions=True ,**options_0)\n"
   ]
  },
  {
   "cell_type": "code",
   "execution_count": 35,
   "id": "0ae47158",
   "metadata": {},
   "outputs": [
    {
     "data": {
      "image/png": "[encoded data removed]",
      "text/plain": [
       "<Figure size 640x480 with 1 Axes>"
      ]
     },
     "metadata": {},
     "output_type": "display_data"
    }
   ],
   "source": [
    "for final_wavefunction_cpu in results.final_wavefunctions:\n",
    "    plt.plot(x_train.cpu().detach().numpy(), final_wavefunction_cpu, label=\"Final Wavefunction CPU\")"
   ]
  },
  {
   "cell_type": "code",
   "execution_count": 36,
   "id": "3ae222d4",
   "metadata": {},
   "outputs": [
    {
     "data": {
      "text/plain": [
       "<matplotlib.legend.Legend at 0x719c34d30110>"
      ]
     },
     "execution_count": 36,
     "metadata": {},
     "output_type": "execute_result"
    },
    {
     "data": {
      "image/png": "[encoded data removed]",
      "text/plain": [
       "<Figure size 640x480 with 1 Axes>"
      ]
     },
     "metadata": {},
     "output_type": "display_data"
    }
   ],
   "source": [
    "for i, energy_hist in enumerate(results.convergence_energies):\n",
    "    plt.plot(energy_hist, label=f\"E{i}\")\n",
    "plt.xlabel(\"Epochs\")\n",
    "plt.ylabel(\"Energy\")\n",
    "plt.legend()"
   ]
  },
  {
   "cell_type": "code",
   "execution_count": null,
   "id": "320f4707",
   "metadata": {},
   "outputs": [],
   "source": []
  }
 ],
 "metadata": {
  "kernelspec": {
   "display_name": "base",
   "language": "python",
   "name": "python3"
  },
  "language_info": {
   "codemirror_mode": {
    "name": "ipython",
    "version": 3
   },
   "file_extension": ".py",
   "mimetype": "text/x-python",
   "name": "python",
   "nbconvert_exporter": "python",
   "pygments_lexer": "ipython3",
   "version": "3.12.7"
  }
 },
 "nbformat": 4,
 "nbformat_minor": 5
}
